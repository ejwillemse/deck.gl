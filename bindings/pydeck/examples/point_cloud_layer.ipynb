{
 "cells": [
  {
   "cell_type": "markdown",
   "metadata": {},
   "source": [
    "## Point cloud layer"
   ]
  },
  {
   "cell_type": "code",
   "execution_count": 1,
   "metadata": {},
   "outputs": [
    {
     "name": "stdout",
     "output_type": "stream",
     "text": [
      "Mapbox key = pk.eyJ1IjoiZWp3aWxsZW1zZSIsImEiOiJjazhxMG1wYTkwMGMwM3Jwa29qcTduYjBzIn0.Ak0jgr96rC-W5WB1jlmkyw\n"
     ]
    }
   ],
   "source": [
    "with open('../../../mapbox_key.txt', 'r') as f:\n",
    "    mapbox_key = f.readline()\n",
    "    print('Mapbox key =', mapbox_key)"
   ]
  },
  {
   "cell_type": "code",
   "execution_count": 2,
   "metadata": {},
   "outputs": [],
   "source": [
    "\"\"\"\n",
    "PointCloudLayer\n",
    "===============\n",
    "A subset of a Creative Commons-licensed laser-scanned point cloud of Choshi-Otaki Falls in Aomori, Japan.\n",
    "\n",
    "The full data set is viewable here:\n",
    "https://sketchfab.com/3d-models/choshi-otaki-falls-oirase-valley-aomori-ea1ef9e7f82f418ea0776ceb6894ebd1\n",
    "\"\"\"\n",
    "\n",
    "import pydeck\n",
    "import pandas as pd\n",
    "\n",
    "\n",
    "DATA_URL = \"https://raw.githubusercontent.com/ajduberstein/geo_datasets/master/small_waterfall.csv\"\n",
    "df = pd.read_csv(DATA_URL)\n",
    "\n",
    "target = [df.x.mean(), df.y.mean(), df.z.mean()]\n",
    "\n",
    "point_cloud_layer = pydeck.Layer(\n",
    "    \"PointCloudLayer\",\n",
    "    data=DATA_URL,\n",
    "    get_position=[\"x\", \"y\", \"z\"],\n",
    "    get_color=[\"r\", \"g\", \"b\"],\n",
    "    get_normal=[0, 0, 15],\n",
    "    auto_highlight=True,\n",
    "    pickable=True,\n",
    "    point_size=3,\n",
    ")\n",
    "\n",
    "view_state = pydeck.ViewState(target=target, controller=True, rotation_x=15, rotation_orbit=30, zoom=5.3)\n",
    "view = pydeck.View(type=\"OrbitView\", controller=True)"
   ]
  },
  {
   "cell_type": "code",
   "execution_count": 4,
   "metadata": {},
   "outputs": [
    {
     "data": {
      "text/html": [
       "\n",
       "        <iframe\n",
       "            width=\"700\"\n",
       "            height=\"500\"\n",
       "            src=\"./point_cloud_layer.html\"\n",
       "            frameborder=\"0\"\n",
       "            allowfullscreen\n",
       "        ></iframe>\n",
       "        "
      ],
      "text/plain": [
       "<IPython.lib.display.IFrame at 0x118dc3950>"
      ]
     },
     "metadata": {},
     "output_type": "display_data"
    },
    {
     "data": {
      "text/plain": [
       "'/Users/ejwillemse/dev/deck.gl/bindings/pydeck/examples/point_cloud_layer.html'"
      ]
     },
     "execution_count": 4,
     "metadata": {},
     "output_type": "execute_result"
    }
   ],
   "source": [
    "r = pydeck.Deck(point_cloud_layer, initial_view_state=view_state, views=[view], height=1000)\n",
    "r.to_html(\"point_cloud_layer.html\", notebook_display=True)"
   ]
  },
  {
   "cell_type": "code",
   "execution_count": 5,
   "metadata": {},
   "outputs": [
    {
     "data": {
      "application/vnd.jupyter.widget-view+json": {
       "model_id": "25bfc3b6037e4b65886f043bd76ce32a",
       "version_major": 2,
       "version_minor": 0
      },
      "text/plain": [
       "DeckGLWidget(height=1000, json_input='{\"initialViewState\": {\"controller\": true, \"rotationOrbit\": 30, \"rotation…"
      ]
     },
     "metadata": {},
     "output_type": "display_data"
    }
   ],
   "source": [
    "r.show()"
   ]
  },
  {
   "cell_type": "code",
   "execution_count": null,
   "metadata": {},
   "outputs": [],
   "source": []
  },
  {
   "cell_type": "code",
   "execution_count": null,
   "metadata": {},
   "outputs": [],
   "source": [
    "\n"
   ]
  },
  {
   "cell_type": "code",
   "execution_count": null,
   "metadata": {},
   "outputs": [],
   "source": []
  }
 ],
 "metadata": {
  "kernelspec": {
   "display_name": "Python 3",
   "language": "python",
   "name": "python3"
  },
  "language_info": {
   "codemirror_mode": {
    "name": "ipython",
    "version": 3
   },
   "file_extension": ".py",
   "mimetype": "text/x-python",
   "name": "python",
   "nbconvert_exporter": "python",
   "pygments_lexer": "ipython3",
   "version": "3.7.6"
  }
 },
 "nbformat": 4,
 "nbformat_minor": 4
}

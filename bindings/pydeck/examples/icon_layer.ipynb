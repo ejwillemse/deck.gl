{
 "cells": [
  {
   "cell_type": "markdown",
   "metadata": {},
   "source": [
    "## Icon layer"
   ]
  },
  {
   "cell_type": "code",
   "execution_count": 3,
   "metadata": {},
   "outputs": [
    {
     "name": "stdout",
     "output_type": "stream",
     "text": [
      "Mapbox key = pk.eyJ1IjoiZWp3aWxsZW1zZSIsImEiOiJjazhxMG1wYTkwMGMwM3Jwa29qcTduYjBzIn0.Ak0jgr96rC-W5WB1jlmkyw\n"
     ]
    }
   ],
   "source": [
    "with open('../../../mapbox_key.txt', 'r') as f:\n",
    "    mapbox_key = f.readline()\n",
    "    print('Mapbox key =', mapbox_key)"
   ]
  },
  {
   "cell_type": "code",
   "execution_count": 4,
   "metadata": {},
   "outputs": [
    {
     "name": "stderr",
     "output_type": "stream",
     "text": [
      "/Users/ejwillemse/anaconda3/lib/python3.7/site-packages/ipykernel_launcher.py:28: SettingWithCopyWarning: \n",
      "A value is trying to be set on a copy of a slice from a DataFrame\n",
      "\n",
      "See the caveats in the documentation: https://pandas.pydata.org/pandas-docs/stable/user_guide/indexing.html#returning-a-view-versus-a-copy\n"
     ]
    }
   ],
   "source": [
    "\"\"\"\n",
    "IconLayer\n",
    "=========\n",
    "\n",
    "Location of biergartens in Germany listed on OpenStreetMap as of early 2020.\n",
    "\"\"\"\n",
    "\n",
    "import pydeck\n",
    "import pandas as pd\n",
    "\n",
    "\n",
    "# Data from OpenStreetMap, accessed via osmpy\n",
    "DATA_URL = \"https://raw.githubusercontent.com/ajduberstein/geo_datasets/master/biergartens.json\"\n",
    "ICON_URL = \"https://upload.wikimedia.org/wikipedia/commons/c/c4/Projet_bi%C3%A8re_logo_v2.png\"\n",
    "\n",
    "icon_data = {\n",
    "    # Icon from Wikimedia, used the Creative Commons Attribution-Share Alike 3.0\n",
    "    # Unported, 2.5 Generic, 2.0 Generic and 1.0 Generic licenses\n",
    "    \"url\": ICON_URL,\n",
    "    \"width\": 242,\n",
    "    \"height\": 242,\n",
    "    \"anchorY\": 242,\n",
    "}\n",
    "\n",
    "data = pd.read_json(DATA_URL)\n",
    "data[\"icon_data\"] = None\n",
    "for i in data.index:\n",
    "    data[\"icon_data\"][i] = icon_data\n",
    "\n",
    "view_state = pydeck.data_utils.compute_view(data[[\"lon\", \"lat\"]], 0.1)\n",
    "\n",
    "icon_layer = pydeck.Layer(\n",
    "    type=\"IconLayer\",\n",
    "    data=data,\n",
    "    get_icon=\"icon_data\",\n",
    "    get_size=4,\n",
    "    size_scale=15,\n",
    "    get_position=[\"lon\", \"lat\"],\n",
    "    pickable=True,\n",
    ")"
   ]
  },
  {
   "cell_type": "code",
   "execution_count": 6,
   "metadata": {},
   "outputs": [
    {
     "data": {
      "text/html": [
       "\n",
       "        <iframe\n",
       "            width=\"700\"\n",
       "            height=\"500\"\n",
       "            src=\"./icon_layer.html\"\n",
       "            frameborder=\"0\"\n",
       "            allowfullscreen\n",
       "        ></iframe>\n",
       "        "
      ],
      "text/plain": [
       "<IPython.lib.display.IFrame at 0x114347590>"
      ]
     },
     "metadata": {},
     "output_type": "display_data"
    },
    {
     "data": {
      "text/plain": [
       "'/Users/ejwillemse/dev/deck.gl/bindings/pydeck/examples/icon_layer.html'"
      ]
     },
     "execution_count": 6,
     "metadata": {},
     "output_type": "execute_result"
    }
   ],
   "source": [
    "# Render\n",
    "r = pydeck.Deck(layers=[icon_layer], initial_view_state=view_state, tooltip={\"text\": \"{tags}\"}, mapbox_key=mapbox_key, height=1000)\n",
    "r.to_html(\"icon_layer.html\", notebook_display=True)"
   ]
  },
  {
   "cell_type": "code",
   "execution_count": 7,
   "metadata": {},
   "outputs": [
    {
     "data": {
      "application/vnd.jupyter.widget-view+json": {
       "model_id": "56c05667f5e947a5bd860e82d6073f0c",
       "version_major": 2,
       "version_minor": 0
      },
      "text/plain": [
       "DeckGLWidget(height=1000, json_input='{\"initialViewState\": {\"latitude\": 50.1047599308225, \"longitude\": 10.1769…"
      ]
     },
     "metadata": {},
     "output_type": "display_data"
    }
   ],
   "source": [
    "r.show()"
   ]
  },
  {
   "cell_type": "code",
   "execution_count": null,
   "metadata": {},
   "outputs": [],
   "source": []
  }
 ],
 "metadata": {
  "kernelspec": {
   "display_name": "Python 3",
   "language": "python",
   "name": "python3"
  },
  "language_info": {
   "codemirror_mode": {
    "name": "ipython",
    "version": 3
   },
   "file_extension": ".py",
   "mimetype": "text/x-python",
   "name": "python",
   "nbconvert_exporter": "python",
   "pygments_lexer": "ipython3",
   "version": "3.7.6"
  }
 },
 "nbformat": 4,
 "nbformat_minor": 4
}

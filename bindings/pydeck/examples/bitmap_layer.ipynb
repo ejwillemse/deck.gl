{
 "cells": [
  {
   "cell_type": "markdown",
   "metadata": {},
   "source": [
    "## Bitmap layer"
   ]
  },
  {
   "cell_type": "code",
   "execution_count": 1,
   "metadata": {},
   "outputs": [
    {
     "name": "stdout",
     "output_type": "stream",
     "text": [
      "Mapbox key = pk.eyJ1IjoiZWp3aWxsZW1zZSIsImEiOiJjazhxMG1wYTkwMGMwM3Jwa29qcTduYjBzIn0.Ak0jgr96rC-W5WB1jlmkyw\n"
     ]
    }
   ],
   "source": [
    "\"\"\"\n",
    "BitmapLayer\n",
    "===========\n",
    "\n",
    "A 1906 Britton & Rey's map of San Francisco's 1906 fire, overlaid on\n",
    "an interactive map of San Francisco.\n",
    "\n",
    "Can't get this one to work.\n",
    "\"\"\"\n",
    "\n",
    "import pydeck\n",
    "\n",
    "with open('../../../mapbox_key.txt', 'r') as f:\n",
    "    mapbox_key = f.readline()\n",
    "    print('Mapbox key =', mapbox_key)\n",
    "\n",
    "\n",
    "# Map of San Francisco from 1906\n",
    "IMG_URL = '\"https://i.imgur.com/W95ked7.jpg\"'\n",
    "\n",
    "BOUNDS = [\n",
    "    [-122.52690000000051, 37.70313158980733],\n",
    "    [-122.52690000000051, 37.816395657523195],\n",
    "    [-122.34604834372873, 37.816134829424335],\n",
    "    [-122.34656848822227, 37.70339041384273],\n",
    "]"
   ]
  },
  {
   "cell_type": "code",
   "execution_count": 3,
   "metadata": {},
   "outputs": [],
   "source": [
    "# Map of San Francisco from 1906\n",
    "IMG_URL = '\"https://i.imgur.com/W95ked7.jpg\"'\n",
    "\n",
    "BOUNDS = [\n",
    "    [-122.52690000000051, 37.70313158980733],\n",
    "    [-122.52690000000051, 37.816395657523195],\n",
    "    [-122.34604834372873, 37.816134829424335],\n",
    "    [-122.34656848822227, 37.70339041384273],\n",
    "]\n",
    "\n",
    "bitmap_layer = pydeck.Layer(\"BitmapLayer\", data=None, image=IMG_URL, bounds=BOUNDS, opacity=0.7)\n",
    "\n",
    "view_state = pydeck.ViewState(latitude=37.7576171, longitude=-122.5776844, zoom=10, bearing=-45, pitch=60,)"
   ]
  },
  {
   "cell_type": "code",
   "execution_count": 4,
   "metadata": {},
   "outputs": [
    {
     "data": {
      "application/vnd.jupyter.widget-view+json": {
       "model_id": "0db6b66120ee426480d16863e8bf33dc",
       "version_major": 2,
       "version_minor": 0
      },
      "text/plain": [
       "DeckGLWidget(height=1000, json_input='{\"initialViewState\": {\"bearing\": -45, \"latitude\": 37.7576171, \"longitude…"
      ]
     },
     "metadata": {},
     "output_type": "display_data"
    }
   ],
   "source": [
    "bitmap_layer = pydeck.Layer(\"BitmapLayer\", data=None, image=IMG_URL, bounds=BOUNDS, opacity=0.7)\n",
    "\n",
    "view_state = pydeck.ViewState(latitude=37.7576171, longitude=-122.5776844, zoom=10, bearing=-45, pitch=60,)\n",
    "\n",
    "r = pydeck.Deck(bitmap_layer, \n",
    "                initial_view_state=view_state, \n",
    "                map_style=\"mapbox://styles/mapbox/satellite-v9\", \n",
    "                mapbox_key=mapbox_key,\n",
    "                height=1000)\n",
    "r.show()"
   ]
  },
  {
   "cell_type": "code",
   "execution_count": null,
   "metadata": {},
   "outputs": [],
   "source": []
  }
 ],
 "metadata": {
  "kernelspec": {
   "display_name": "Python 3",
   "language": "python",
   "name": "python3"
  },
  "language_info": {
   "codemirror_mode": {
    "name": "ipython",
    "version": 3
   },
   "file_extension": ".py",
   "mimetype": "text/x-python",
   "name": "python",
   "nbconvert_exporter": "python",
   "pygments_lexer": "ipython3",
   "version": "3.7.6"
  }
 },
 "nbformat": 4,
 "nbformat_minor": 4
}

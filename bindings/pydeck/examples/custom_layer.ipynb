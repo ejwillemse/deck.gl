{
 "cells": [
  {
   "cell_type": "markdown",
   "metadata": {},
   "source": [
    "## Custom layer"
   ]
  },
  {
   "cell_type": "code",
   "execution_count": 6,
   "metadata": {},
   "outputs": [
    {
     "name": "stdout",
     "output_type": "stream",
     "text": [
      "Mapbox key = pk.eyJ1IjoiZWp3aWxsZW1zZSIsImEiOiJjazhxMG1wYTkwMGMwM3Jwa29qcTduYjBzIn0.Ak0jgr96rC-W5WB1jlmkyw\n"
     ]
    }
   ],
   "source": [
    "\"\"\"\n",
    "ContourLayer\n",
    "===========\n",
    "\n",
    "Location of livestock raised in New Mexico in the United States in 2006,\n",
    "via the United Nations and FAOSTAT, with the source data viewable here: http://www.fao.org/faostat/en/\n",
    "\n",
    "Locations for poultry are viewable in blue and cattle are in orange.\n",
    "\n",
    "Overlaid with the satellite imagery from Mapbox to highlight the how terrain affects agriculture.\n",
    "\"\"\"\n",
    "\n",
    "import pandas as pd\n",
    "import pydeck\n",
    "\n",
    "with open('../../../mapbox_key.txt', 'r') as f:\n",
    "    mapbox_key = f.readline()\n",
    "    print('Mapbox key =', mapbox_key)\n",
    "\n",
    "pydeck.settings.custom_libraries = [\n",
    "    {\n",
    "        \"libraryName\": \"LabeledGeoJsonLayerLibrary\",\n",
    "        \"resourceUri\": \"https://unpkg.com/pydeck-custom-layer-demo/dist/bundle.js\",\n",
    "    }\n",
    "]\n",
    "\n",
    "DATA_URL = \"https://raw.githubusercontent.com/johan/world.geo.json/master/countries.geo.json\"\n",
    "\n",
    "custom_layer = pydeck.Layer(\n",
    "    \"LabeledGeoJsonLayer\",\n",
    "    data=DATA_URL,\n",
    "    filled=False,\n",
    "    billboard=False,\n",
    "    get_line_color=[180, 180, 180],\n",
    "    get_label=\"properties.name\",\n",
    "    get_label_size=200000,\n",
    "    get_label_color=[0, 255, 255],\n",
    "    label_size_units='\"meters\"',\n",
    "    line_width_min_pixels=1,\n",
    ")\n",
    "\n",
    "view_state = pydeck.ViewState(latitude=0, longitude=0, zoom=1)"
   ]
  },
  {
   "cell_type": "code",
   "execution_count": 8,
   "metadata": {},
   "outputs": [
    {
     "data": {
      "application/vnd.jupyter.widget-view+json": {
       "model_id": "1abdcc45908c4a77a183073f17da6f8a",
       "version_major": 2,
       "version_minor": 0
      },
      "text/plain": [
       "DeckGLWidget(height=1000, json_input='{\"initialViewState\": {\"latitude\": 0, \"longitude\": 0, \"zoom\": 1}, \"layers…"
      ]
     },
     "metadata": {},
     "output_type": "display_data"
    }
   ],
   "source": [
    "r = pydeck.Deck(custom_layer, initial_view_state=view_state, map_style=\"\",\n",
    "    mapbox_key=mapbox_key,\n",
    "                height=1000\n",
    ")\n",
    "\n",
    "r.show()"
   ]
  },
  {
   "cell_type": "code",
   "execution_count": null,
   "metadata": {},
   "outputs": [],
   "source": []
  }
 ],
 "metadata": {
  "kernelspec": {
   "display_name": "Python 3",
   "language": "python",
   "name": "python3"
  },
  "language_info": {
   "codemirror_mode": {
    "name": "ipython",
    "version": 3
   },
   "file_extension": ".py",
   "mimetype": "text/x-python",
   "name": "python",
   "nbconvert_exporter": "python",
   "pygments_lexer": "ipython3",
   "version": "3.7.6"
  }
 },
 "nbformat": 4,
 "nbformat_minor": 4
}

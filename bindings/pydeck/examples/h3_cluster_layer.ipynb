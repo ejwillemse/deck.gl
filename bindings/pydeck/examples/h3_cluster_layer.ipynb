{
 "cells": [
  {
   "cell_type": "markdown",
   "metadata": {},
   "source": [
    "## Cluster layer"
   ]
  },
  {
   "cell_type": "code",
   "execution_count": 1,
   "metadata": {},
   "outputs": [
    {
     "name": "stdout",
     "output_type": "stream",
     "text": [
      "Mapbox key = pk.eyJ1IjoiZWp3aWxsZW1zZSIsImEiOiJjazhxMG1wYTkwMGMwM3Jwa29qcTduYjBzIn0.Ak0jgr96rC-W5WB1jlmkyw\n"
     ]
    }
   ],
   "source": [
    "with open('../../../mapbox_key.txt', 'r') as f:\n",
    "    mapbox_key = f.readline()\n",
    "    print('Mapbox key =', mapbox_key)"
   ]
  },
  {
   "cell_type": "code",
   "execution_count": 2,
   "metadata": {},
   "outputs": [],
   "source": [
    "\"\"\"\n",
    "H3ClusterLayer\n",
    "==============\n",
    "\n",
    "Data grouped by H3 geohash, as an example of one of the geohash schemes supported by pydeck.\n",
    "\n",
    "This layer joins contiguous regions into the same color. Data format is as follows:\n",
    "\n",
    "    [\n",
    "      {\n",
    "        \"mean\": 73.333,\n",
    "        \"count\": 440,\n",
    "        \"hexIds\": [\n",
    "          \"88283082b9fffff\",\n",
    "          \"88283082b1fffff\",\n",
    "          \"88283082b5fffff\",\n",
    "          \"88283082b7fffff\",\n",
    "          \"88283082bbfffff\",\n",
    "          \"882830876dfffff\"\n",
    "        ]\n",
    "      },\n",
    "      {\n",
    "        \"mean\": 384.444,\n",
    "        \"count\": 3460,\n",
    "        \"hexIds\": [\n",
    "          \"8828308281fffff\",\n",
    "          \"8828308287fffff\",\n",
    "          \"88283082abfffff\",\n",
    "          \"88283082a3fffff\",\n",
    "          \"8828308289fffff\",\n",
    "          \"88283082c7fffff\",\n",
    "          \"88283082c3fffff\",\n",
    "          \"88283082c1fffff\",\n",
    "          \"88283082d5fffff\"\n",
    "        ]\n",
    "      },\n",
    "      ...\n",
    "\n",
    "If you'd simply like to plot a value at an H3 hex ID, see the H3HexagonLayer.\n",
    "\n",
    "This example is adapted from the deck.gl documentation.\n",
    "\"\"\"\n",
    "\n",
    "import pydeck as pdk\n",
    "import pandas as pd\n",
    "\n",
    "H3_CLUSTER_LAYER_DATA = \"https://raw.githubusercontent.com/visgl/deck.gl-data/master/website/sf.h3clusters.json\"  # noqa\n",
    "\n",
    "df = pd.read_json(H3_CLUSTER_LAYER_DATA)\n",
    "\n",
    "# Define a layer to display on a map\n",
    "layer = pdk.Layer(\n",
    "    \"H3ClusterLayer\",\n",
    "    df,\n",
    "    pickable=True,\n",
    "    stroked=True,\n",
    "    filled=True,\n",
    "    extruded=False,\n",
    "    get_hexagons=\"hexIds\",\n",
    "    get_fill_color=\"[255, (1 - mean / 500) * 255, 0]\",\n",
    "    get_line_color=[255, 255, 255],\n",
    "    line_width_min_pixels=2,\n",
    ")\n",
    "\n",
    "# Set the viewport location\n",
    "view_state = pdk.ViewState(latitude=37.7749295, longitude=-122.4194155, zoom=11, bearing=0, pitch=30)"
   ]
  },
  {
   "cell_type": "code",
   "execution_count": 4,
   "metadata": {},
   "outputs": [
    {
     "data": {
      "text/html": [
       "\n",
       "        <iframe\n",
       "            width=\"700\"\n",
       "            height=\"500\"\n",
       "            src=\"./grid_layer.html\"\n",
       "            frameborder=\"0\"\n",
       "            allowfullscreen\n",
       "        ></iframe>\n",
       "        "
      ],
      "text/plain": [
       "<IPython.lib.display.IFrame at 0x116fb8510>"
      ]
     },
     "metadata": {},
     "output_type": "display_data"
    },
    {
     "data": {
      "text/plain": [
       "'/Users/ejwillemse/dev/deck.gl/bindings/pydeck/examples/grid_layer.html'"
      ]
     },
     "execution_count": 4,
     "metadata": {},
     "output_type": "execute_result"
    }
   ],
   "source": [
    "# Render\n",
    "r = pdk.Deck(layers=[layer], initial_view_state=view_state, tooltip={\"text\": \"Density: {mean}\"}, mapbox_key=mapbox_key, height=1000)\n",
    "r.to_html(\"grid_layer.html\", notebook_display=True)"
   ]
  },
  {
   "cell_type": "code",
   "execution_count": 5,
   "metadata": {},
   "outputs": [
    {
     "data": {
      "application/vnd.jupyter.widget-view+json": {
       "model_id": "c8c2b5d60aa242318cab54b5c1db1dd5",
       "version_major": 2,
       "version_minor": 0
      },
      "text/plain": [
       "DeckGLWidget(height=1000, json_input='{\"initialViewState\": {\"bearing\": 0, \"latitude\": 37.7749295, \"longitude\":…"
      ]
     },
     "metadata": {},
     "output_type": "display_data"
    }
   ],
   "source": [
    "r.show()"
   ]
  },
  {
   "cell_type": "code",
   "execution_count": null,
   "metadata": {},
   "outputs": [],
   "source": []
  }
 ],
 "metadata": {
  "kernelspec": {
   "display_name": "Python 3",
   "language": "python",
   "name": "python3"
  },
  "language_info": {
   "codemirror_mode": {
    "name": "ipython",
    "version": 3
   },
   "file_extension": ".py",
   "mimetype": "text/x-python",
   "name": "python",
   "nbconvert_exporter": "python",
   "pygments_lexer": "ipython3",
   "version": "3.7.6"
  }
 },
 "nbformat": 4,
 "nbformat_minor": 4
}

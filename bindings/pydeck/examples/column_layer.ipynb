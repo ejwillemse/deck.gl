{
 "cells": [
  {
   "cell_type": "markdown",
   "metadata": {},
   "source": [
    "## Column layer"
   ]
  },
  {
   "cell_type": "code",
   "execution_count": 1,
   "metadata": {},
   "outputs": [
    {
     "name": "stdout",
     "output_type": "stream",
     "text": [
      "Mapbox key = pk.eyJ1IjoiZWp3aWxsZW1zZSIsImEiOiJjazhxMG1wYTkwMGMwM3Jwa29qcTduYjBzIn0.Ak0jgr96rC-W5WB1jlmkyw\n"
     ]
    }
   ],
   "source": [
    "\"\"\"\n",
    "ColumnLayer\n",
    "===========\n",
    "\n",
    "Real estate values for select properties in Taipei. Data is from 2012-2013.\n",
    "The height of a column indicates increasing price per unit area, and the color indicates distance from a subway stop.\n",
    "\n",
    "The real estate valuation data set from UC Irvine's Machine Learning repository, viewable here:\n",
    "\n",
    "https://archive.ics.uci.edu/ml/datasets/Real+estate+valuation+data+set\n",
    "\"\"\"\n",
    "\n",
    "import pydeck\n",
    "import pandas as pd\n",
    "\n",
    "with open('../../../mapbox_key.txt', 'r') as f:\n",
    "    mapbox_key = f.readline()\n",
    "    print('Mapbox key =', mapbox_key)\n",
    "\n",
    "DATA_URL = \"https://raw.githubusercontent.com/ajduberstein/geo_datasets/master/housing.csv\"\n",
    "df = pd.read_csv(DATA_URL)\n",
    "\n",
    "view = pydeck.data_utils.compute_view(df[[\"lng\", \"lat\"]])\n",
    "view.pitch = 75\n",
    "view.bearing = 60\n",
    "\n",
    "column_layer = pydeck.Layer(\n",
    "    \"ColumnLayer\",\n",
    "    data=df,\n",
    "    get_position=[\"lng\", \"lat\"],\n",
    "    get_elevation=\"price_per_unit_area\",\n",
    "    elevation_scale=100,\n",
    "    radius=50,\n",
    "    get_fill_color=[\"mrt_distance * 10\", \"mrt_distance\", \"mrt_distance * 10\", 140],\n",
    "    pickable=True,\n",
    "    auto_highlight=True,\n",
    ")\n",
    "\n",
    "tooltip = {\n",
    "    \"html\": \"<b>{mrt_distance}</b> meters away from an MRT station, costs <b>{price_per_unit_area}</b> NTD/sqm\",\n",
    "    \"style\": {\"background\": \"grey\", \"color\": \"white\", \"font-family\": '\"Helvetica Neue\", Arial', \"z-index\": \"10000\"},\n",
    "}"
   ]
  },
  {
   "cell_type": "code",
   "execution_count": 3,
   "metadata": {},
   "outputs": [
    {
     "data": {
      "application/vnd.jupyter.widget-view+json": {
       "model_id": "2ac2c9a6d33e44a28e987090f987aac3",
       "version_major": 2,
       "version_minor": 0
      },
      "text/plain": [
       "DeckGLWidget(height=1000, json_input='{\"initialViewState\": {\"bearing\": 60, \"latitude\": 24.969030072463745, \"lo…"
      ]
     },
     "metadata": {},
     "output_type": "display_data"
    }
   ],
   "source": [
    "r = pydeck.Deck(column_layer,                 \n",
    "                initial_view_state=view, \n",
    "                map_style=\"mapbox://styles/mapbox/satellite-v9\", \n",
    "                mapbox_key=mapbox_key,\n",
    "                height=1000)\n",
    "r.show()"
   ]
  },
  {
   "cell_type": "code",
   "execution_count": null,
   "metadata": {},
   "outputs": [],
   "source": []
  }
 ],
 "metadata": {
  "kernelspec": {
   "display_name": "Python 3",
   "language": "python",
   "name": "python3"
  },
  "language_info": {
   "codemirror_mode": {
    "name": "ipython",
    "version": 3
   },
   "file_extension": ".py",
   "mimetype": "text/x-python",
   "name": "python",
   "nbconvert_exporter": "python",
   "pygments_lexer": "ipython3",
   "version": "3.7.6"
  }
 },
 "nbformat": 4,
 "nbformat_minor": 4
}

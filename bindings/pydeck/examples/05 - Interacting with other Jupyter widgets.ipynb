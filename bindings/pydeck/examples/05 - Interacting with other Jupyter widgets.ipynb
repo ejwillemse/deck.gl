{
 "cells": [
  {
   "cell_type": "code",
   "execution_count": 1,
   "metadata": {},
   "outputs": [
    {
     "name": "stdout",
     "output_type": "stream",
     "text": [
      "Mapbox key = pk.eyJ1IjoiZWp3aWxsZW1zZSIsImEiOiJjazhxMG1wYTkwMGMwM3Jwa29qcTduYjBzIn0.Ak0jgr96rC-W5WB1jlmkyw\n"
     ]
    }
   ],
   "source": [
    "import pydeck as pdk\n",
    "import pandas as pd\n",
    "\n",
    "with open('../../../mapbox_key.txt', 'r') as f:\n",
    "    mapbox_key = f.readline()\n",
    "    print('Mapbox key =', mapbox_key)"
   ]
  },
  {
   "cell_type": "markdown",
   "metadata": {},
   "source": [
    "# Plotting lights at night\n",
    "\n",
    "NASA has collected global light emission data for over 30 years. The data set is a deeply fascinating one and has been used for news stories on the Syrian Civil War [[1]](https://time.com/3741451/syria-lights-civil-war-satellite/), North Korea [[2]](https://www.cbsnews.com/pictures/north-korea-hermit-country-space-photos/4/), and economic growth [[3]](https://qz.com/959563/nasas-black-marble-map-shows-the-light-of-human-population-centers-at-night-throughout-2016/).\n",
    "\n",
    "In this notebook, we'll use a deck.gl [HeatmapLayer](https://deck.gl/#/documentation/deckgl-api-reference/layers/heatmap-layer) to visualize some of the changes at different points in time.\n",
    "\n",
    "## Getting the data\n",
    "\n",
    "The data for Chengdu, China, is cleaned and available below. Please note this data is meant for demonstration only."
   ]
  },
  {
   "cell_type": "code",
   "execution_count": 2,
   "metadata": {},
   "outputs": [
    {
     "data": {
      "text/html": [
       "<div>\n",
       "<style scoped>\n",
       "    .dataframe tbody tr th:only-of-type {\n",
       "        vertical-align: middle;\n",
       "    }\n",
       "\n",
       "    .dataframe tbody tr th {\n",
       "        vertical-align: top;\n",
       "    }\n",
       "\n",
       "    .dataframe thead th {\n",
       "        text-align: right;\n",
       "    }\n",
       "</style>\n",
       "<table border=\"1\" class=\"dataframe\">\n",
       "  <thead>\n",
       "    <tr style=\"text-align: right;\">\n",
       "      <th></th>\n",
       "      <th>year</th>\n",
       "      <th>lng</th>\n",
       "      <th>lat</th>\n",
       "      <th>brightness</th>\n",
       "    </tr>\n",
       "  </thead>\n",
       "  <tbody>\n",
       "    <tr>\n",
       "      <th>0</th>\n",
       "      <td>1993</td>\n",
       "      <td>104.575</td>\n",
       "      <td>31.808</td>\n",
       "      <td>4</td>\n",
       "    </tr>\n",
       "    <tr>\n",
       "      <th>1</th>\n",
       "      <td>1993</td>\n",
       "      <td>104.583</td>\n",
       "      <td>31.808</td>\n",
       "      <td>4</td>\n",
       "    </tr>\n",
       "    <tr>\n",
       "      <th>2</th>\n",
       "      <td>1993</td>\n",
       "      <td>104.592</td>\n",
       "      <td>31.808</td>\n",
       "      <td>4</td>\n",
       "    </tr>\n",
       "    <tr>\n",
       "      <th>3</th>\n",
       "      <td>1993</td>\n",
       "      <td>104.600</td>\n",
       "      <td>31.808</td>\n",
       "      <td>4</td>\n",
       "    </tr>\n",
       "    <tr>\n",
       "      <th>4</th>\n",
       "      <td>1993</td>\n",
       "      <td>104.675</td>\n",
       "      <td>31.808</td>\n",
       "      <td>4</td>\n",
       "    </tr>\n",
       "  </tbody>\n",
       "</table>\n",
       "</div>"
      ],
      "text/plain": [
       "   year      lng     lat  brightness\n",
       "0  1993  104.575  31.808           4\n",
       "1  1993  104.583  31.808           4\n",
       "2  1993  104.592  31.808           4\n",
       "3  1993  104.600  31.808           4\n",
       "4  1993  104.675  31.808           4"
      ]
     },
     "execution_count": 2,
     "metadata": {},
     "output_type": "execute_result"
    }
   ],
   "source": [
    "LIGHTS_URL = 'https://raw.githubusercontent.com/ajduberstein/lights_at_night/master/chengdu_lights_at_night.csv'\n",
    "df = pd.read_csv(LIGHTS_URL)\n",
    "df.head()"
   ]
  },
  {
   "cell_type": "markdown",
   "metadata": {},
   "source": [
    "### Setting the colors\n",
    "pydeck does need to know the color for this data in advance of plotting it"
   ]
  },
  {
   "cell_type": "code",
   "execution_count": 3,
   "metadata": {},
   "outputs": [
    {
     "data": {
      "text/html": [
       "<div>\n",
       "<style scoped>\n",
       "    .dataframe tbody tr th:only-of-type {\n",
       "        vertical-align: middle;\n",
       "    }\n",
       "\n",
       "    .dataframe tbody tr th {\n",
       "        vertical-align: top;\n",
       "    }\n",
       "\n",
       "    .dataframe thead th {\n",
       "        text-align: right;\n",
       "    }\n",
       "</style>\n",
       "<table border=\"1\" class=\"dataframe\">\n",
       "  <thead>\n",
       "    <tr style=\"text-align: right;\">\n",
       "      <th></th>\n",
       "      <th>year</th>\n",
       "      <th>lng</th>\n",
       "      <th>lat</th>\n",
       "      <th>brightness</th>\n",
       "      <th>color</th>\n",
       "    </tr>\n",
       "  </thead>\n",
       "  <tbody>\n",
       "    <tr>\n",
       "      <th>211752</th>\n",
       "      <td>2007</td>\n",
       "      <td>103.742</td>\n",
       "      <td>29.942</td>\n",
       "      <td>4</td>\n",
       "      <td>[255, 16, 255, 255]</td>\n",
       "    </tr>\n",
       "    <tr>\n",
       "      <th>221083</th>\n",
       "      <td>2011</td>\n",
       "      <td>104.392</td>\n",
       "      <td>31.500</td>\n",
       "      <td>5</td>\n",
       "      <td>[255, 20, 255, 255]</td>\n",
       "    </tr>\n",
       "    <tr>\n",
       "      <th>302623</th>\n",
       "      <td>1999</td>\n",
       "      <td>104.158</td>\n",
       "      <td>31.233</td>\n",
       "      <td>6</td>\n",
       "      <td>[255, 24, 255, 255]</td>\n",
       "    </tr>\n",
       "    <tr>\n",
       "      <th>97976</th>\n",
       "      <td>2001</td>\n",
       "      <td>103.975</td>\n",
       "      <td>30.833</td>\n",
       "      <td>9</td>\n",
       "      <td>[255, 36, 255, 255]</td>\n",
       "    </tr>\n",
       "    <tr>\n",
       "      <th>189866</th>\n",
       "      <td>2007</td>\n",
       "      <td>105.117</td>\n",
       "      <td>31.083</td>\n",
       "      <td>5</td>\n",
       "      <td>[255, 20, 255, 255]</td>\n",
       "    </tr>\n",
       "    <tr>\n",
       "      <th>106371</th>\n",
       "      <td>2001</td>\n",
       "      <td>104.517</td>\n",
       "      <td>30.350</td>\n",
       "      <td>7</td>\n",
       "      <td>[255, 28, 255, 255]</td>\n",
       "    </tr>\n",
       "    <tr>\n",
       "      <th>245706</th>\n",
       "      <td>2011</td>\n",
       "      <td>103.950</td>\n",
       "      <td>30.258</td>\n",
       "      <td>5</td>\n",
       "      <td>[255, 20, 255, 255]</td>\n",
       "    </tr>\n",
       "    <tr>\n",
       "      <th>43725</th>\n",
       "      <td>1995</td>\n",
       "      <td>104.300</td>\n",
       "      <td>30.883</td>\n",
       "      <td>8</td>\n",
       "      <td>[255, 32, 255, 255]</td>\n",
       "    </tr>\n",
       "    <tr>\n",
       "      <th>105197</th>\n",
       "      <td>2001</td>\n",
       "      <td>103.875</td>\n",
       "      <td>30.425</td>\n",
       "      <td>8</td>\n",
       "      <td>[255, 32, 255, 255]</td>\n",
       "    </tr>\n",
       "    <tr>\n",
       "      <th>117006</th>\n",
       "      <td>2003</td>\n",
       "      <td>104.742</td>\n",
       "      <td>31.617</td>\n",
       "      <td>3</td>\n",
       "      <td>[255, 12, 255, 255]</td>\n",
       "    </tr>\n",
       "  </tbody>\n",
       "</table>\n",
       "</div>"
      ],
      "text/plain": [
       "        year      lng     lat  brightness                color\n",
       "211752  2007  103.742  29.942           4  [255, 16, 255, 255]\n",
       "221083  2011  104.392  31.500           5  [255, 20, 255, 255]\n",
       "302623  1999  104.158  31.233           6  [255, 24, 255, 255]\n",
       "97976   2001  103.975  30.833           9  [255, 36, 255, 255]\n",
       "189866  2007  105.117  31.083           5  [255, 20, 255, 255]\n",
       "106371  2001  104.517  30.350           7  [255, 28, 255, 255]\n",
       "245706  2011  103.950  30.258           5  [255, 20, 255, 255]\n",
       "43725   1995  104.300  30.883           8  [255, 32, 255, 255]\n",
       "105197  2001  103.875  30.425           8  [255, 32, 255, 255]\n",
       "117006  2003  104.742  31.617           3  [255, 12, 255, 255]"
      ]
     },
     "execution_count": 3,
     "metadata": {},
     "output_type": "execute_result"
    }
   ],
   "source": [
    "df['color'] = df['brightness'].apply(lambda val: [255, val * 4,  255, 255])\n",
    "df.sample(10)"
   ]
  },
  {
   "cell_type": "markdown",
   "metadata": {},
   "source": [
    "## Plotting and interacting\n",
    "\n",
    "We can plot this data set of light brightness by year, configuring a slider to filter the data as below:"
   ]
  },
  {
   "cell_type": "code",
   "execution_count": 4,
   "metadata": {},
   "outputs": [
    {
     "data": {
      "application/vnd.jupyter.widget-view+json": {
       "model_id": "a450f47cf5a148f3bbe72323dab35fa2",
       "version_major": 2,
       "version_minor": 0
      },
      "text/plain": [
       "DeckGLWidget(json_input='{\"initialViewState\": {\"latitude\": 31.0, \"longitude\": 104.5, \"maxZoom\": 8, \"minZoom\": …"
      ]
     },
     "metadata": {},
     "output_type": "display_data"
    }
   ],
   "source": [
    "plottable = df[df['year'] == 1993].to_dict(orient='records')\n",
    "\n",
    "view_state = pdk.ViewState(\n",
    "    latitude=31.0,\n",
    "    longitude=104.5,\n",
    "    zoom=8,\n",
    "    max_zoom=8,\n",
    "    min_zoom=8)\n",
    "scatterplot = pdk.Layer(\n",
    "    'HeatmapLayer',\n",
    "    data=plottable,\n",
    "    get_position='[lng, lat]',\n",
    "    get_weight='brightness',\n",
    "    opacity=0.5,\n",
    "    pickable=False,\n",
    "    get_radius=800)\n",
    "r = pdk.Deck(\n",
    "    layers=[scatterplot],\n",
    "    initial_view_state=view_state,\n",
    "    views=[pdk.View(type='MapView', controller=None)],\n",
    "    mapbox_key=mapbox_key)\n",
    "r.show()"
   ]
  },
  {
   "cell_type": "code",
   "execution_count": 8,
   "metadata": {},
   "outputs": [
    {
     "data": {
      "application/vnd.jupyter.widget-view+json": {
       "model_id": "32bf15e0ba14422b816e87b35ac4134a",
       "version_major": 2,
       "version_minor": 0
      },
      "text/plain": [
       "IntSlider(value=1993, max=2013, min=1993, step=2)"
      ]
     },
     "metadata": {},
     "output_type": "display_data"
    }
   ],
   "source": [
    "import ipywidgets as widgets\n",
    "from IPython.display import display\n",
    "slider = widgets.IntSlider(1992, min=1993, max=2013, step=2)\n",
    "def on_change(v):\n",
    "    results = df[df['year'] == slider.value].to_dict(orient='records')\n",
    "    scatterplot.data = results\n",
    "    r.update()\n",
    "    \n",
    "slider.observe(on_change, names='value')\n",
    "display(slider)"
   ]
  },
  {
   "cell_type": "code",
   "execution_count": null,
   "metadata": {},
   "outputs": [],
   "source": []
  }
 ],
 "metadata": {
  "kernelspec": {
   "display_name": "Python 2",
   "language": "python",
   "name": "python2"
  },
  "language_info": {
   "codemirror_mode": {
    "name": "ipython",
    "version": 3
   },
   "file_extension": ".py",
   "mimetype": "text/x-python",
   "name": "python",
   "nbconvert_exporter": "python",
   "pygments_lexer": "ipython3",
   "version": "3.7.6"
  }
 },
 "nbformat": 4,
 "nbformat_minor": 4
}

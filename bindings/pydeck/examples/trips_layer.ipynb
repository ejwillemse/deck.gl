{
 "cells": [
  {
   "cell_type": "markdown",
   "metadata": {},
   "source": [
    "## Trips layer"
   ]
  },
  {
   "cell_type": "code",
   "execution_count": 2,
   "metadata": {},
   "outputs": [
    {
     "name": "stdout",
     "output_type": "stream",
     "text": [
      "Mapbox key = pk.eyJ1IjoiZWp3aWxsZW1zZSIsImEiOiJjazhxMG1wYTkwMGMwM3Jwa29qcTduYjBzIn0.Ak0jgr96rC-W5WB1jlmkyw\n"
     ]
    }
   ],
   "source": [
    "with open('../../../mapbox_key.txt', 'r') as f:\n",
    "    mapbox_key = f.readline()\n",
    "    print('Mapbox key =', mapbox_key)"
   ]
  },
  {
   "cell_type": "code",
   "execution_count": 12,
   "metadata": {},
   "outputs": [],
   "source": [
    "\"\"\"\n",
    "TripsLayer\n",
    "==========\n",
    "\n",
    "Plot of a single vehicle trip within San Francisco, fading in from the origin.\n",
    "\n",
    "Adapted from a deck.gl documentation example.\n",
    "\"\"\"\n",
    "\n",
    "import pydeck as pdk\n",
    "import pandas as pd\n",
    "\n",
    "TRIPS_LAYER_DATA = \"https://raw.githubusercontent.com/visgl/deck.gl-data/master/website/sf.trips.json\"  # noqa\n",
    "\n",
    "df = pd.read_json(TRIPS_LAYER_DATA)\n",
    "\n",
    "df[\"coordinates\"] = df[\"waypoints\"].apply(lambda f: [item[\"coordinates\"] for item in f])\n",
    "df[\"timestamps\"] = df[\"waypoints\"].apply(lambda f: [item[\"timestamp\"] - 1554772579000 for item in f])\n",
    "\n",
    "df.drop([\"waypoints\"], axis=1, inplace=True)\n",
    "\n",
    "layer = pdk.Layer(\n",
    "    \"TripsLayer\",\n",
    "    df,\n",
    "    get_path=\"coordinates\",\n",
    "    get_timestamps=\"timestamps\",\n",
    "    get_color=[253, 128, 93],\n",
    "    opacity=0.8,\n",
    "    width_min_pixels=5,\n",
    "    rounded=True,\n",
    "    trail_length=600,\n",
    "    current_time=500,\n",
    ")\n",
    "\n",
    "view_state = pdk.ViewState(latitude=37.7749295, longitude=-122.4194155, zoom=11, bearing=0, pitch=45)"
   ]
  },
  {
   "cell_type": "code",
   "execution_count": 13,
   "metadata": {},
   "outputs": [
    {
     "data": {
      "text/html": [
       "\n",
       "        <iframe\n",
       "            width=\"1000\"\n",
       "            height=\"1000\"\n",
       "            src=\"./screengrid_layer.html\"\n",
       "            frameborder=\"0\"\n",
       "            allowfullscreen\n",
       "        ></iframe>\n",
       "        "
      ],
      "text/plain": [
       "<IPython.lib.display.IFrame at 0x10f122bd0>"
      ]
     },
     "metadata": {},
     "output_type": "display_data"
    },
    {
     "data": {
      "text/plain": [
       "'/Users/ejwillemse/dev/deck.gl/bindings/pydeck/examples/screengrid_layer.html'"
      ]
     },
     "execution_count": 13,
     "metadata": {},
     "output_type": "execute_result"
    }
   ],
   "source": [
    "# Render\n",
    "r = pdk.Deck(layers=[layer], initial_view_state=view_state, mapbox_key=mapbox_key, height=1000)\n",
    "r.to_html(\"trips_layer.html\", notebook_display=False, iframe_width=1000, iframe_height=1000)\n",
    "\n",
    "# Render\n",
    "r = pdk.Deck(\n",
    "    layers=[layer],\n",
    "    initial_view_state=view_state,\n",
    "    tooltip={\"text\": \"{name}\\n{address}\"},\n",
    "    map_style=\"mapbox://styles/mapbox/satellite-v9\",\n",
    "    mapbox_key=mapbox_key, height=1000\n",
    ")\n",
    "r.to_html(\"screengrid_layer.html\", notebook_display=True, iframe_width=1000, iframe_height=1000)"
   ]
  },
  {
   "cell_type": "code",
   "execution_count": 14,
   "metadata": {},
   "outputs": [
    {
     "data": {
      "application/vnd.jupyter.widget-view+json": {
       "model_id": "297f1e8cf41b4e3cb567e686d43cee94",
       "version_major": 2,
       "version_minor": 0
      },
      "text/plain": [
       "DeckGLWidget(height=1000, json_input='{\"initialViewState\": {\"bearing\": 0, \"latitude\": 37.7749295, \"longitude\":…"
      ]
     },
     "metadata": {},
     "output_type": "display_data"
    }
   ],
   "source": [
    "r.show()"
   ]
  },
  {
   "cell_type": "code",
   "execution_count": null,
   "metadata": {},
   "outputs": [],
   "source": []
  }
 ],
 "metadata": {
  "kernelspec": {
   "display_name": "Python 3",
   "language": "python",
   "name": "python3"
  },
  "language_info": {
   "codemirror_mode": {
    "name": "ipython",
    "version": 3
   },
   "file_extension": ".py",
   "mimetype": "text/x-python",
   "name": "python",
   "nbconvert_exporter": "python",
   "pygments_lexer": "ipython3",
   "version": "3.7.6"
  }
 },
 "nbformat": 4,
 "nbformat_minor": 4
}

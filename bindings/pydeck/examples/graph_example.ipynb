{
 "cells": [
  {
   "cell_type": "markdown",
   "metadata": {},
   "source": [
    "## Graph example"
   ]
  },
  {
   "cell_type": "code",
   "execution_count": 1,
   "metadata": {},
   "outputs": [
    {
     "name": "stdout",
     "output_type": "stream",
     "text": [
      "Mapbox key = pk.eyJ1IjoiZWp3aWxsZW1zZSIsImEiOiJjazhxMG1wYTkwMGMwM3Jwa29qcTduYjBzIn0.Ak0jgr96rC-W5WB1jlmkyw\n"
     ]
    }
   ],
   "source": [
    "with open('../../../mapbox_key.txt', 'r') as f:\n",
    "    mapbox_key = f.readline()\n",
    "    print('Mapbox key =', mapbox_key)"
   ]
  },
  {
   "cell_type": "code",
   "execution_count": 4,
   "metadata": {},
   "outputs": [],
   "source": [
    "\"\"\"\n",
    "Binary Transport\n",
    "================\n",
    "\n",
    "Example of binary transport in pydeck. This notebook renders 10k points via the web sockets within\n",
    "a Jupyter notebook if you run the ``generate_vis()`` function\n",
    "\"\"\"\n",
    "import pydeck\n",
    "\n",
    "import pandas as pd\n",
    "\n",
    "\n",
    "NODES_URL = \"https://raw.githubusercontent.com/ajduberstein/geo_datasets/master/social_nodes.csv\"\n",
    "\n",
    "\n",
    "def generate_graph_data(num_nodes, random_seed):\n",
    "    \"\"\"Generates a graph of 10k nodes with a 3D force layout\n",
    "\n",
    "    This function is unused but serves as an example of how the data in\n",
    "    this visualization was generated\n",
    "    \"\"\"\n",
    "    import networkx as nx  # noqa\n",
    "\n",
    "    g = nx.random_internet_as_graph(num_nodes, random_seed)\n",
    "    node_positions = nx.fruchterman_reingold_layout(g, dim=3)\n",
    "\n",
    "    force_layout_df = pd.DataFrame.from_records(node_positions).transpose()\n",
    "    force_layout_df[\"group\"] = [d[1][\"type\"] for d in g.nodes.data()]\n",
    "    force_layout_df.columns = [\"x\", \"y\", \"z\", \"group\"]\n",
    "    return force_layout_df\n",
    "\n",
    "\n",
    "def make_renderer(nodes, use_binary_transport=False):\n",
    "    \"\"\"Creates the pydeck visualization for rendering\"\"\"\n",
    "    view_state = pydeck.ViewState(offset=[0, 0], latitude=None, longitude=None, bearing=None, pitch=None, zoom=1,)\n",
    "\n",
    "    views = [pydeck.View(type=\"OrbitView\", controller=True)]\n",
    "\n",
    "    nodes_layer = pydeck.Layer(\n",
    "        \"PointCloudLayer\",\n",
    "        nodes,\n",
    "        get_position=\"position\",\n",
    "        get_normal=[10, 100, 10],\n",
    "        get_color=\"color\",\n",
    "        pickable=True,\n",
    "        # Set use_binary_transport to `True`\n",
    "        use_binary_transport=use_binary_transport,\n",
    "        auto_highlight=True,\n",
    "        highlight_color=[255, 255, 0],\n",
    "        radius=50,\n",
    "    )\n",
    "\n",
    "    return pydeck.Deck(layers=[nodes_layer], initial_view_state=view_state, views=views, map_style=None, height=1000)\n",
    "\n",
    "\n",
    "r = None\n",
    "\n",
    "\n",
    "def generate_vis(notebook_display=False):\n",
    "    global r\n",
    "    nodes = pd.read_csv(NODES_URL)\n",
    "\n",
    "    colors = pydeck.data_utils.assign_random_colors(nodes[\"group\"])\n",
    "    # Divide by 255 to normalize the colors\n",
    "    # Specify positions and colors as columns of lists\n",
    "    nodes[\"color\"] = nodes.apply(lambda row: [c / 255 for c in colors.get(row[\"group\"])], axis=1)\n",
    "    nodes[\"position\"] = nodes.apply(lambda row: [row[\"x\"], row[\"y\"], row[\"z\"]], axis=1)\n",
    "\n",
    "    # Remove all unused columns\n",
    "    del nodes[\"x\"]\n",
    "    del nodes[\"y\"]\n",
    "    del nodes[\"z\"]\n",
    "    del nodes[\"group\"]\n",
    "\n",
    "    if not notebook_display:\n",
    "        r = make_renderer(nodes, use_binary_transport=False)\n",
    "        r.to_html(\"graph_example.html\", notebook_display=notebook_display)\n",
    "    else:\n",
    "        r = make_renderer(nodes, use_binary_transport=True)\n",
    "        display(r.show())  # noqa"
   ]
  },
  {
   "cell_type": "code",
   "execution_count": 5,
   "metadata": {},
   "outputs": [
    {
     "name": "stderr",
     "output_type": "stream",
     "text": [
      "/Users/ejwillemse/anaconda3/lib/python3.7/site-packages/pydeck/bindings/deck.py:83: UserWarning: Mapbox API key is not set. This may impact available features of pydeck.\n",
      "  UserWarning,\n"
     ]
    },
    {
     "data": {
      "application/vnd.jupyter.widget-view+json": {
       "model_id": "162139a89ac24114baa4b1279705efe2",
       "version_major": 2,
       "version_minor": 0
      },
      "text/plain": [
       "DeckGLWidget(height=1000, json_input='{\"initialViewState\": {\"offset\": [0, 0], \"zoom\": 1}, \"layers\": [{\"@@type\"…"
      ]
     },
     "metadata": {},
     "output_type": "display_data"
    }
   ],
   "source": [
    "generate_vis(notebook_display=True)"
   ]
  },
  {
   "cell_type": "code",
   "execution_count": null,
   "metadata": {},
   "outputs": [],
   "source": []
  }
 ],
 "metadata": {
  "kernelspec": {
   "display_name": "Python 3",
   "language": "python",
   "name": "python3"
  },
  "language_info": {
   "codemirror_mode": {
    "name": "ipython",
    "version": 3
   },
   "file_extension": ".py",
   "mimetype": "text/x-python",
   "name": "python",
   "nbconvert_exporter": "python",
   "pygments_lexer": "ipython3",
   "version": "3.7.6"
  }
 },
 "nbformat": 4,
 "nbformat_minor": 4
}

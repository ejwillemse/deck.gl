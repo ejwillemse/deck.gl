{
 "cells": [
  {
   "cell_type": "markdown",
   "metadata": {},
   "source": [
    "## Grid layer"
   ]
  },
  {
   "cell_type": "code",
   "execution_count": 2,
   "metadata": {},
   "outputs": [
    {
     "name": "stdout",
     "output_type": "stream",
     "text": [
      "Mapbox key = pk.eyJ1IjoiZWp3aWxsZW1zZSIsImEiOiJjazhxMG1wYTkwMGMwM3Jwa29qcTduYjBzIn0.Ak0jgr96rC-W5WB1jlmkyw\n"
     ]
    }
   ],
   "source": [
    "with open('../../../mapbox_key.txt', 'r') as f:\n",
    "    mapbox_key = f.readline()\n",
    "    print('Mapbox key =', mapbox_key)"
   ]
  },
  {
   "cell_type": "code",
   "execution_count": 3,
   "metadata": {},
   "outputs": [
    {
     "name": "stderr",
     "output_type": "stream",
     "text": [
      "/Users/ejwillemse/anaconda3/lib/python3.7/site-packages/pydeck/bindings/deck.py:83: UserWarning: Mapbox API key is not set. This may impact available features of pydeck.\n",
      "  UserWarning,\n"
     ]
    },
    {
     "data": {
      "text/plain": [
       "'/Users/ejwillemse/dev/deck.gl/bindings/pydeck/examples/grid_layer.html'"
      ]
     },
     "execution_count": 3,
     "metadata": {},
     "output_type": "execute_result"
    }
   ],
   "source": [
    "\"\"\"\n",
    "GridLayer\n",
    "============\n",
    "\n",
    "Locations of bike parking within San Francisco.\n",
    "\n",
    "Adapted from the deck.gl documentation.\n",
    "\"\"\"\n",
    "\n",
    "import pydeck as pdk\n",
    "import pandas as pd\n",
    "\n",
    "CPU_GRID_LAYER_DATA = (\n",
    "    \"https://raw.githubusercontent.com/uber-common/\" \"deck.gl-data/master/website/sf-bike-parking.json\"\n",
    ")\n",
    "df = pd.read_json(CPU_GRID_LAYER_DATA)\n",
    "\n",
    "# Define a layer to display on a map\n",
    "\n",
    "layer = pdk.Layer(\n",
    "    \"GridLayer\", df, pickable=True, extruded=True, cell_size=200, elevation_scale=4, get_position=\"COORDINATES\",\n",
    ")\n",
    "\n",
    "view_state = pdk.ViewState(latitude=37.7749295, longitude=-122.4194155, zoom=11, bearing=0, pitch=45)\n",
    "\n",
    "# Render\n",
    "r = pdk.Deck(layers=[layer], initial_view_state=view_state, tooltip={\"text\": \"{position}\\nCount: {count}\"},)\n",
    "r.to_html(\"grid_layer.html\", notebook_display=False)"
   ]
  },
  {
   "cell_type": "code",
   "execution_count": 7,
   "metadata": {},
   "outputs": [
    {
     "data": {
      "text/html": [
       "\n",
       "        <iframe\n",
       "            width=\"700\"\n",
       "            height=\"500\"\n",
       "            src=\"./grid_layer.html\"\n",
       "            frameborder=\"0\"\n",
       "            allowfullscreen\n",
       "        ></iframe>\n",
       "        "
      ],
      "text/plain": [
       "<IPython.lib.display.IFrame at 0x1150bd350>"
      ]
     },
     "metadata": {},
     "output_type": "display_data"
    },
    {
     "data": {
      "text/plain": [
       "'/Users/ejwillemse/dev/deck.gl/bindings/pydeck/examples/grid_layer.html'"
      ]
     },
     "execution_count": 7,
     "metadata": {},
     "output_type": "execute_result"
    }
   ],
   "source": [
    "# Render\n",
    "r = pdk.Deck(layers=[layer], initial_view_state=view_state, tooltip={\"text\": \"{position}\\nCount: {count}\"}, mapbox_key=mapbox_key, height=1000)\n",
    "r.to_html(\"grid_layer.html\", notebook_display=True)"
   ]
  },
  {
   "cell_type": "code",
   "execution_count": 8,
   "metadata": {},
   "outputs": [
    {
     "data": {
      "application/vnd.jupyter.widget-view+json": {
       "model_id": "47db7f9773fc41ee9c734fc3663420fa",
       "version_major": 2,
       "version_minor": 0
      },
      "text/plain": [
       "DeckGLWidget(height=1000, json_input='{\"initialViewState\": {\"bearing\": 0, \"latitude\": 37.7749295, \"longitude\":…"
      ]
     },
     "metadata": {},
     "output_type": "display_data"
    }
   ],
   "source": [
    "r.show()"
   ]
  },
  {
   "cell_type": "code",
   "execution_count": null,
   "metadata": {},
   "outputs": [],
   "source": []
  }
 ],
 "metadata": {
  "kernelspec": {
   "display_name": "Python 3",
   "language": "python",
   "name": "python3"
  },
  "language_info": {
   "codemirror_mode": {
    "name": "ipython",
    "version": 3
   },
   "file_extension": ".py",
   "mimetype": "text/x-python",
   "name": "python",
   "nbconvert_exporter": "python",
   "pygments_lexer": "ipython3",
   "version": "3.7.6"
  }
 },
 "nbformat": 4,
 "nbformat_minor": 4
}

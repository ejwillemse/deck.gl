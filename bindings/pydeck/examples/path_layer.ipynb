{
 "cells": [
  {
   "cell_type": "markdown",
   "metadata": {},
   "source": [
    "## Path layer"
   ]
  },
  {
   "cell_type": "code",
   "execution_count": 2,
   "metadata": {},
   "outputs": [
    {
     "name": "stdout",
     "output_type": "stream",
     "text": [
      "Mapbox key = pk.eyJ1IjoiZWp3aWxsZW1zZSIsImEiOiJjazhxMG1wYTkwMGMwM3Jwa29qcTduYjBzIn0.Ak0jgr96rC-W5WB1jlmkyw\n"
     ]
    }
   ],
   "source": [
    "with open('../../../mapbox_key.txt', 'r') as f:\n",
    "    mapbox_key = f.readline()\n",
    "    print('Mapbox key =', mapbox_key)"
   ]
  },
  {
   "cell_type": "code",
   "execution_count": 1,
   "metadata": {},
   "outputs": [],
   "source": [
    "\"\"\"\n",
    "PathLayer\n",
    "=========\n",
    "\n",
    "Locations of the Bay Area Rapid Transit lines.\n",
    "\"\"\"\n",
    "\n",
    "import pydeck\n",
    "import pandas as pd\n",
    "\n",
    "DATA_URL = \"https://raw.githubusercontent.com/visgl/deck.gl-data/master/website/bart-lines.json\"\n",
    "df = pd.read_json(DATA_URL)\n",
    "\n",
    "\n",
    "def hex_to_rgb(h):\n",
    "    h = h.lstrip(\"#\")\n",
    "    return tuple(int(h[i : i + 2], 16) for i in (0, 2, 4))\n",
    "\n",
    "\n",
    "df[\"color\"] = df[\"color\"].apply(hex_to_rgb)\n",
    "\n",
    "\n",
    "view_state = pydeck.ViewState(latitude=37.782556, longitude=-122.3484867, zoom=10)\n",
    "\n",
    "layer = pydeck.Layer(\n",
    "    type=\"PathLayer\",\n",
    "    data=df,\n",
    "    pickable=True,\n",
    "    get_color=\"color\",\n",
    "    width_scale=20,\n",
    "    width_min_pixels=2,\n",
    "    get_path=\"path\",\n",
    "    get_width=5,\n",
    ")"
   ]
  },
  {
   "cell_type": "code",
   "execution_count": 8,
   "metadata": {},
   "outputs": [
    {
     "data": {
      "text/html": [
       "<div>\n",
       "<style scoped>\n",
       "    .dataframe tbody tr th:only-of-type {\n",
       "        vertical-align: middle;\n",
       "    }\n",
       "\n",
       "    .dataframe tbody tr th {\n",
       "        vertical-align: top;\n",
       "    }\n",
       "\n",
       "    .dataframe thead th {\n",
       "        text-align: right;\n",
       "    }\n",
       "</style>\n",
       "<table border=\"1\" class=\"dataframe\">\n",
       "  <thead>\n",
       "    <tr style=\"text-align: right;\">\n",
       "      <th></th>\n",
       "      <th>name</th>\n",
       "      <th>color</th>\n",
       "      <th>path</th>\n",
       "    </tr>\n",
       "  </thead>\n",
       "  <tbody>\n",
       "    <tr>\n",
       "      <th>0</th>\n",
       "      <td>Richmond - Millbrae</td>\n",
       "      <td>(237, 28, 36)</td>\n",
       "      <td>[[-122.3535851, 37.9360513], [-122.3179784, 37...</td>\n",
       "    </tr>\n",
       "    <tr>\n",
       "      <th>1</th>\n",
       "      <td>Fremont - Richmond</td>\n",
       "      <td>(250, 166, 26)</td>\n",
       "      <td>[[-122.353165, 37.936887], [-122.317269, 37.92...</td>\n",
       "    </tr>\n",
       "    <tr>\n",
       "      <th>2</th>\n",
       "      <td>Pittsburg/Bay Point - SFO</td>\n",
       "      <td>(255, 232, 0)</td>\n",
       "      <td>[[-121.945154, 38.018914], [-122.024597, 38.00...</td>\n",
       "    </tr>\n",
       "    <tr>\n",
       "      <th>3</th>\n",
       "      <td>Dublin/Pleasanton - Daly City</td>\n",
       "      <td>(0, 174, 239)</td>\n",
       "      <td>[[-121.900367, 37.701695], [-121.928099, 37.69...</td>\n",
       "    </tr>\n",
       "    <tr>\n",
       "      <th>4</th>\n",
       "      <td>Fremont - Daly City</td>\n",
       "      <td>(77, 184, 72)</td>\n",
       "      <td>[[-121.9764, 37.557355], [-122.017867, 37.5912...</td>\n",
       "    </tr>\n",
       "  </tbody>\n",
       "</table>\n",
       "</div>"
      ],
      "text/plain": [
       "                            name           color  \\\n",
       "0            Richmond - Millbrae   (237, 28, 36)   \n",
       "1             Fremont - Richmond  (250, 166, 26)   \n",
       "2      Pittsburg/Bay Point - SFO   (255, 232, 0)   \n",
       "3  Dublin/Pleasanton - Daly City   (0, 174, 239)   \n",
       "4            Fremont - Daly City   (77, 184, 72)   \n",
       "\n",
       "                                                path  \n",
       "0  [[-122.3535851, 37.9360513], [-122.3179784, 37...  \n",
       "1  [[-122.353165, 37.936887], [-122.317269, 37.92...  \n",
       "2  [[-121.945154, 38.018914], [-122.024597, 38.00...  \n",
       "3  [[-121.900367, 37.701695], [-121.928099, 37.69...  \n",
       "4  [[-121.9764, 37.557355], [-122.017867, 37.5912...  "
      ]
     },
     "execution_count": 8,
     "metadata": {},
     "output_type": "execute_result"
    }
   ],
   "source": [
    "df"
   ]
  },
  {
   "cell_type": "code",
   "execution_count": 9,
   "metadata": {},
   "outputs": [
    {
     "data": {
      "text/html": [
       "\n",
       "        <iframe\n",
       "            width=\"700\"\n",
       "            height=\"500\"\n",
       "            src=\"./path_layer.html\"\n",
       "            frameborder=\"0\"\n",
       "            allowfullscreen\n",
       "        ></iframe>\n",
       "        "
      ],
      "text/plain": [
       "<IPython.lib.display.IFrame at 0x117ee4350>"
      ]
     },
     "metadata": {},
     "output_type": "display_data"
    },
    {
     "data": {
      "text/plain": [
       "'/Users/ejwillemse/dev/deck.gl/bindings/pydeck/examples/path_layer.html'"
      ]
     },
     "execution_count": 9,
     "metadata": {},
     "output_type": "execute_result"
    }
   ],
   "source": [
    "# Render\n",
    "r = pydeck.Deck(layers=[layer], initial_view_state=view_state, tooltip={\"text\": \"{name}\"}, mapbox_key=mapbox_key, height=1000)\n",
    "r.to_html(\"path_layer.html\", notebook_display=True)"
   ]
  },
  {
   "cell_type": "code",
   "execution_count": 10,
   "metadata": {},
   "outputs": [
    {
     "data": {
      "application/vnd.jupyter.widget-view+json": {
       "model_id": "b72e2262fe344d2f90d737a1d76fb61e",
       "version_major": 2,
       "version_minor": 0
      },
      "text/plain": [
       "DeckGLWidget(height=1000, json_input='{\"initialViewState\": {\"latitude\": 37.782556, \"longitude\": -122.3484867, …"
      ]
     },
     "metadata": {},
     "output_type": "display_data"
    }
   ],
   "source": [
    "r.show()"
   ]
  },
  {
   "cell_type": "code",
   "execution_count": null,
   "metadata": {},
   "outputs": [],
   "source": []
  }
 ],
 "metadata": {
  "kernelspec": {
   "display_name": "Python 3",
   "language": "python",
   "name": "python3"
  },
  "language_info": {
   "codemirror_mode": {
    "name": "ipython",
    "version": 3
   },
   "file_extension": ".py",
   "mimetype": "text/x-python",
   "name": "python",
   "nbconvert_exporter": "python",
   "pygments_lexer": "ipython3",
   "version": "3.7.6"
  }
 },
 "nbformat": 4,
 "nbformat_minor": 4
}

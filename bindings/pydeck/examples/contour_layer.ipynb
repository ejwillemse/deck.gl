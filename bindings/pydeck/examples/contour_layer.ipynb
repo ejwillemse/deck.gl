{
 "cells": [
  {
   "cell_type": "markdown",
   "metadata": {},
   "source": [
    "## Contour layer"
   ]
  },
  {
   "cell_type": "code",
   "execution_count": 3,
   "metadata": {},
   "outputs": [
    {
     "name": "stdout",
     "output_type": "stream",
     "text": [
      "Mapbox key = pk.eyJ1IjoiZWp3aWxsZW1zZSIsImEiOiJjazhxMG1wYTkwMGMwM3Jwa29qcTduYjBzIn0.Ak0jgr96rC-W5WB1jlmkyw\n"
     ]
    }
   ],
   "source": [
    "\"\"\"\n",
    "ContourLayer\n",
    "===========\n",
    "\n",
    "Location of livestock raised in New Mexico in the United States in 2006,\n",
    "via the United Nations and FAOSTAT, with the source data viewable here: http://www.fao.org/faostat/en/\n",
    "\n",
    "Locations for poultry are viewable in blue and cattle are in orange.\n",
    "\n",
    "Overlaid with the satellite imagery from Mapbox to highlight the how terrain affects agriculture.\n",
    "\"\"\"\n",
    "\n",
    "import pandas as pd\n",
    "import pydeck\n",
    "\n",
    "with open('../../../mapbox_key.txt', 'r') as f:\n",
    "    mapbox_key = f.readline()\n",
    "    print('Mapbox key =', mapbox_key)\n",
    "\n",
    "CATTLE_DATA = \"https://raw.githubusercontent.com/ajduberstein/geo_datasets/master/nm_cattle.csv\"\n",
    "POULTRY_DATA = \"https://raw.githubusercontent.com/ajduberstein/geo_datasets/master/nm_chickens.csv\"\n",
    "\n",
    "\n",
    "HEADER = [\"lng\", \"lat\", \"weight\"]\n",
    "cattle_df = pd.read_csv(CATTLE_DATA, header=None)\n",
    "poultry_df = pd.read_csv(POULTRY_DATA, header=None)\n",
    "\n",
    "cattle_df.columns = HEADER\n",
    "poultry_df.columns = HEADER\n",
    "\n",
    "\n",
    "view = pydeck.data_utils.compute_view(cattle_df[[\"lng\", \"lat\"]])\n",
    "\n",
    "p75, p90, p99 = cattle_df[\"weight\"].quantile([0.75, 0.9, 0.99])\n",
    "\n",
    "STROKE_WIDTH = 5\n",
    "\n",
    "CONTOURS_0 = [\n",
    "    {\"threshold\": p75, \"color\": [0, 238, 224], \"strokeWidth\": STROKE_WIDTH},\n",
    "    {\"threshold\": p90, \"color\": [0, 180, 240], \"strokeWidth\": STROKE_WIDTH},\n",
    "    {\"threshold\": p99, \"color\": [0, 0, 240], \"strokeWidth\": STROKE_WIDTH},\n",
    "]\n",
    "\n",
    "p75, p90, p99 = poultry_df[\"weight\"].quantile([0.75, 0.9, 0.99])\n",
    "\n",
    "CONTOURS_1 = [\n",
    "    {\"threshold\": p75, \"color\": [245, 245, 0], \"strokeWidth\": STROKE_WIDTH, \"zIndex\": 1},\n",
    "    {\"threshold\": p99, \"color\": [247, 150, 0], \"strokeWidth\": STROKE_WIDTH, \"zIndex\": 10},\n",
    "]\n",
    "\n",
    "\n",
    "# in meters\n",
    "CELL_SIZE = 3000\n",
    "\n",
    "cattle = pydeck.Layer(\n",
    "    \"ContourLayer\",\n",
    "    data=cattle_df,\n",
    "    get_position=[\"lng\", \"lat\"],\n",
    "    contours=CONTOURS_0,\n",
    "    cell_size=CELL_SIZE,\n",
    "    aggregation='\"MEAN\"',\n",
    "    get_weight=\"weight\",\n",
    "    pickable=True,\n",
    ")\n",
    "\n",
    "poultry = pydeck.Layer(\n",
    "    \"ContourLayer\",\n",
    "    data=poultry_df,\n",
    "    get_position=[\"lng\", \"lat\"],\n",
    "    contours=CONTOURS_1,\n",
    "    cell_size=CELL_SIZE,\n",
    "    aggregation='\"MEAN\"',\n",
    "    get_weight=\"weight\",\n",
    "    pickable=True,\n",
    ")"
   ]
  },
  {
   "cell_type": "code",
   "execution_count": 4,
   "metadata": {},
   "outputs": [
    {
     "data": {
      "application/vnd.jupyter.widget-view+json": {
       "model_id": "aca6142940ff4379b43a3b7e60f3bc3c",
       "version_major": 2,
       "version_minor": 0
      },
      "text/plain": [
       "DeckGLWidget(height=1000, json_input='{\"initialViewState\": {\"latitude\": 34.43112779949585, \"longitude\": -106.0…"
      ]
     },
     "metadata": {},
     "output_type": "display_data"
    }
   ],
   "source": [
    "r = pydeck.Deck(\n",
    "    layers=[cattle, poultry],\n",
    "    initial_view_state=view,\n",
    "    map_style=\"mapbox://styles/mapbox/satellite-v9\",\n",
    "    tooltip={\"text\": \"Concentration of cattle in blue, concentration of poultry in orange\"},\n",
    "    mapbox_key=mapbox_key,\n",
    "                height=1000\n",
    ")\n",
    "\n",
    "r.show()"
   ]
  }
 ],
 "metadata": {
  "kernelspec": {
   "display_name": "Python 3",
   "language": "python",
   "name": "python3"
  },
  "language_info": {
   "codemirror_mode": {
    "name": "ipython",
    "version": 3
   },
   "file_extension": ".py",
   "mimetype": "text/x-python",
   "name": "python",
   "nbconvert_exporter": "python",
   "pygments_lexer": "ipython3",
   "version": "3.7.6"
  }
 },
 "nbformat": 4,
 "nbformat_minor": 4
}

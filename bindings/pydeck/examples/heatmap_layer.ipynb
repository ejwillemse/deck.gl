{
 "cells": [
  {
   "cell_type": "markdown",
   "metadata": {},
   "source": [
    "## Heatmap layer"
   ]
  },
  {
   "cell_type": "code",
   "execution_count": 1,
   "metadata": {},
   "outputs": [
    {
     "name": "stdout",
     "output_type": "stream",
     "text": [
      "Mapbox key = pk.eyJ1IjoiZWp3aWxsZW1zZSIsImEiOiJjazhxMG1wYTkwMGMwM3Jwa29qcTduYjBzIn0.Ak0jgr96rC-W5WB1jlmkyw\n"
     ]
    }
   ],
   "source": [
    "with open('../../../mapbox_key.txt', 'r') as f:\n",
    "    mapbox_key = f.readline()\n",
    "    print('Mapbox key =', mapbox_key)"
   ]
  },
  {
   "cell_type": "code",
   "execution_count": 3,
   "metadata": {},
   "outputs": [],
   "source": [
    "\"\"\"\n",
    "HeatmapLayer\n",
    "===========\n",
    "\n",
    "Location of livestock raised in New Mexico in the United States in 2006,\n",
    "via the United Nations and FAOSTAT, with the source data viewable here: http://www.fao.org/faostat/en/\n",
    "\n",
    "Locations for poultry are viewable in blue and cattle are in orange.\n",
    "\n",
    "Overlaid with the satellite imagery from Mapbox to highlight the how terrain affects agriculture.\n",
    "\"\"\"\n",
    "\n",
    "import pandas as pd\n",
    "import pydeck\n",
    "\n",
    "CATTLE_DATA = \"https://raw.githubusercontent.com/ajduberstein/geo_datasets/master/nm_cattle.csv\"\n",
    "POULTRY_DATA = \"https://raw.githubusercontent.com/ajduberstein/geo_datasets/master/nm_chickens.csv\"\n",
    "\n",
    "\n",
    "HEADER = [\"lng\", \"lat\", \"weight\"]\n",
    "cattle_df = pd.read_csv(CATTLE_DATA, header=None).sample(frac=0.5)\n",
    "poultry_df = pd.read_csv(POULTRY_DATA, header=None).sample(frac=0.5)\n",
    "\n",
    "cattle_df.columns = HEADER\n",
    "poultry_df.columns = HEADER\n",
    "\n",
    "COLOR_BREWER_BLUE_SCALE = [\n",
    "    [240, 249, 232],\n",
    "    [204, 235, 197],\n",
    "    [168, 221, 181],\n",
    "    [123, 204, 196],\n",
    "    [67, 162, 202],\n",
    "    [8, 104, 172],\n",
    "]\n",
    "\n",
    "\n",
    "view = pydeck.data_utils.compute_view(cattle_df[[\"lng\", \"lat\"]])\n",
    "view.zoom = 6\n",
    "\n",
    "cattle = pydeck.Layer(\n",
    "    \"HeatmapLayer\",\n",
    "    data=cattle_df,\n",
    "    opacity=0.9,\n",
    "    get_position=[\"lng\", \"lat\"],\n",
    "    aggregation='\"MEAN\"',\n",
    "    color_range=COLOR_BREWER_BLUE_SCALE,\n",
    "    threshold=1,\n",
    "    get_weight=\"weight\",\n",
    "    pickable=True,\n",
    ")\n",
    "\n",
    "poultry = pydeck.Layer(\n",
    "    \"HeatmapLayer\",\n",
    "    data=poultry_df,\n",
    "    opacity=0.9,\n",
    "    get_position=[\"lng\", \"lat\"],\n",
    "    threshold=0.75,\n",
    "    aggregation='\"MEAN\"',\n",
    "    get_weight=\"weight\",\n",
    "    pickable=True,\n",
    ")"
   ]
  },
  {
   "cell_type": "code",
   "execution_count": 5,
   "metadata": {},
   "outputs": [
    {
     "data": {
      "text/html": [
       "\n",
       "        <iframe\n",
       "            width=\"700\"\n",
       "            height=\"500\"\n",
       "            src=\"./heatmap_layer.html\"\n",
       "            frameborder=\"0\"\n",
       "            allowfullscreen\n",
       "        ></iframe>\n",
       "        "
      ],
      "text/plain": [
       "<IPython.lib.display.IFrame at 0x11f1ae5d0>"
      ]
     },
     "metadata": {},
     "output_type": "display_data"
    },
    {
     "data": {
      "text/plain": [
       "'/Users/ejwillemse/dev/deck.gl/bindings/pydeck/examples/heatmap_layer.html'"
      ]
     },
     "execution_count": 5,
     "metadata": {},
     "output_type": "execute_result"
    }
   ],
   "source": [
    "r = pydeck.Deck(\n",
    "    layers=[cattle, poultry],\n",
    "    initial_view_state=view,\n",
    "    map_style=\"mapbox://styles/mapbox/dark-v9\",\n",
    "    tooltip={\"text\": \"Concentration of cattle in blue, concentration of poultry in orange\"},\n",
    "    mapbox_key=mapbox_key, \n",
    "    height=1000\n",
    ")\n",
    "\n",
    "r.to_html(\"heatmap_layer.html\", notebook_display=True)"
   ]
  },
  {
   "cell_type": "code",
   "execution_count": 6,
   "metadata": {},
   "outputs": [
    {
     "data": {
      "application/vnd.jupyter.widget-view+json": {
       "model_id": "be6ec817132344459d45c08921e53c7f",
       "version_major": 2,
       "version_minor": 0
      },
      "text/plain": [
       "DeckGLWidget(height=1000, json_input='{\"initialViewState\": {\"latitude\": 34.43034655921265, \"longitude\": -106.0…"
      ]
     },
     "metadata": {},
     "output_type": "display_data"
    }
   ],
   "source": [
    "r.show()"
   ]
  },
  {
   "cell_type": "code",
   "execution_count": null,
   "metadata": {},
   "outputs": [],
   "source": []
  }
 ],
 "metadata": {
  "kernelspec": {
   "display_name": "Python 3",
   "language": "python",
   "name": "python3"
  },
  "language_info": {
   "codemirror_mode": {
    "name": "ipython",
    "version": 3
   },
   "file_extension": ".py",
   "mimetype": "text/x-python",
   "name": "python",
   "nbconvert_exporter": "python",
   "pygments_lexer": "ipython3",
   "version": "3.7.6"
  }
 },
 "nbformat": 4,
 "nbformat_minor": 4
}
